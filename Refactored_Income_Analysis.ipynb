{
 "cells": [
  {
   "cell_type": "code",
   "execution_count": null,
   "id": "748bd6e8",
   "metadata": {},
   "outputs": [],
   "source": [
    "import pandas as pd\n",
    "import numpy as np\n",
    "from sklearn.model_selection import train_test_split\n",
    "from sklearn.preprocessing import StandardScaler, LabelEncoder\n"
   ]
  },
  {
   "cell_type": "code",
   "execution_count": null,
   "id": "5942e34d",
   "metadata": {},
   "outputs": [],
   "source": [
    "# Load data\n",
    "data_train = pd.read_csv('/mnt/data/adult.data', header=None)\n",
    "data_test = pd.read_csv('/mnt/data/adult.test', header=None, skiprows=1)\n",
    "\n",
    "# Combine train and test data for preprocessing\n",
    "data = pd.concat([data_train, data_test], ignore_index=True)\n"
   ]
  },
  {
   "cell_type": "code",
   "execution_count": null,
   "id": "8d7fc75b",
   "metadata": {},
   "outputs": [],
   "source": [
    "# Data preprocessing\n",
    "# Assuming the last column is the target and first column includes categorical data that needs encoding\n",
    "label_enc = LabelEncoder()\n",
    "data.iloc[:, -1] = label_enc.fit_transform(data.iloc[:, -1])\n",
    "\n",
    "# Split data back into train and test\n",
    "train_data, test_data = train_test_split(data, test_size=0.2, random_state=42)\n",
    "\n",
    "# Feature scaling\n",
    "scaler = StandardScaler()\n",
    "train_features = scaler.fit_transform(train_data.drop(train_data.columns[-1], axis=1))\n",
    "test_features = scaler.transform(test_data.drop(test_data.columns[-1], axis=1))\n",
    "\n",
    "train_labels = train_data.iloc[:, -1].values\n",
    "test_labels = test_data.iloc[:, -1].values\n"
   ]
  },
  {
   "cell_type": "code",
   "execution_count": null,
   "id": "581e527b",
   "metadata": {},
   "outputs": [],
   "source": [
    "# Model utilities\n",
    "def sigmoid(z):\n",
    "    return 1 / (1 + np.exp(-z))\n",
    "\n",
    "def compute_cost(X, y, weights):\n",
    "    m = len(y)\n",
    "    predictions = sigmoid(np.dot(X, weights))\n",
    "    cost = -1/m * np.sum(y * np.log(predictions) + (1 - y) * np.log(1 - predictions))\n",
    "    return cost\n",
    "\n",
    "def gradient_descent(X, y, weights, learning_rate, iterations):\n",
    "    m = len(y)\n",
    "    cost_history = []\n",
    "    for i in range(iterations):\n",
    "        predictions = sigmoid(np.dot(X, weights))\n",
    "        weights -= learning_rate * (1/m) * np.dot(X.T, (predictions - y))\n",
    "        cost_history.append(compute_cost(X, y, weights))\n",
    "    return weights, cost_history\n"
   ]
  }
 ],
 "metadata": {},
 "nbformat": 4,
 "nbformat_minor": 5
}
